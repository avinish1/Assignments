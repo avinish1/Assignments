{
 "cells": [
  {
   "cell_type": "markdown",
   "metadata": {},
   "source": [
    "### Run the below cells for package installation after installing from requirements.txt supplied in the zip"
   ]
  },
  {
   "cell_type": "code",
   "execution_count": null,
   "metadata": {},
   "outputs": [],
   "source": [
    "#Run the below for pke package if facing errors or as a precaution.\n",
    "!pip install git+https://github.com/boudinfl/pke.git\n",
    "#Run all these\n",
    "!python -m nltk.downloader stopwords\n",
    "!python -m nltk.downloader universal_tagset\n",
    "!python -m spacy download en"
   ]
  },
  {
   "cell_type": "code",
   "execution_count": 64,
   "metadata": {},
   "outputs": [
    {
     "data": {
      "text/plain": [
       "<spacy.lang.en.English at 0x21499e5c448>"
      ]
     },
     "execution_count": 64,
     "metadata": {},
     "output_type": "execute_result"
    }
   ],
   "source": [
    "import string\n",
    "import nltk\n",
    "import pke\n",
    "import IPython\n",
    "from rake_nltk import Rake\n",
    "import spacy\n",
    "spacy.load('en')\n",
    "#nltk.download('all') done one time for downloading all nltk data thought only stopwords,punkt and universal_tagset would do"
   ]
  },
  {
   "cell_type": "markdown",
   "metadata": {},
   "source": [
    "## Navigate here for high level flow of Rake (https://www.draw.io/#G1Ci3sAGXbTsnSrFjOTFYpUQaJvcm14jcd)"
   ]
  },
  {
   "cell_type": "code",
   "execution_count": null,
   "metadata": {},
   "outputs": [],
   "source": [
    "#Docstring\n",
    "Rake??"
   ]
  },
  {
   "cell_type": "code",
   "execution_count": 65,
   "metadata": {},
   "outputs": [],
   "source": [
    "def return_keyphrases(inp_text,method):\n",
    "    if(method == 'rake'):\n",
    "        r = Rake(min_length = 2, max_length = 3)\n",
    "        r.extract_keywords_from_text(text)\n",
    "        keyphrases = r.get_ranked_phrases_with_scores()\n",
    "    else:\n",
    "        extractor = pke.unsupervised.TopicRank()\n",
    "        extractor.load_document(input=inp_text, language='en')\n",
    "        extractor.candidate_selection()\n",
    "        extractor.candidate_weighting()\n",
    "        keyphrases = extractor.get_n_best(n=10)\n",
    "    if(len(keyphrases)>5):\n",
    "        return keyphrases[:5]\n",
    "    else:\n",
    "        return keyphrases"
   ]
  },
  {
   "cell_type": "code",
   "execution_count": 66,
   "metadata": {},
   "outputs": [],
   "source": [
    "text = \"Machine learning for NLP and text analytics involves a set of statistical techniques for identifying parts of speech, entities, sentiment, and other aspects of text. The techniques can be expressed as a model that is then applied to other text, also known as supervised machine learning.\""
   ]
  },
  {
   "cell_type": "code",
   "execution_count": 67,
   "metadata": {},
   "outputs": [
    {
     "name": "stdout",
     "output_type": "stream",
     "text": [
      "Using RAKE-NLTK\n",
      "(9.0, 'text analytics involves')\n",
      "(8.0, 'supervised machine learning')\n",
      "(5.0, 'machine learning')\n",
      "(4.0, 'statistical techniques')\n",
      "(4.0, 'identifying parts')\n",
      "**************************************************\n",
      "Using pke\n",
      "('statistical techniques', 0.1467914698939418)\n",
      "('text analytics', 0.14453709635879025)\n",
      "('speech', 0.10734422980159503)\n",
      "('entities', 0.1046986349444543)\n",
      "('parts', 0.10010105777510221)\n"
     ]
    }
   ],
   "source": [
    "print(\"Using RAKE-NLTK\")\n",
    "print(*return_keyphrases(text,'rake'),sep=\"\\n\")\n",
    "print(\"*\"*50)\n",
    "print(\"Using pke\")\n",
    "print(*return_keyphrases(text,'pke'),sep=\"\\n\")"
   ]
  },
  {
   "cell_type": "markdown",
   "metadata": {},
   "source": [
    "# References:-\n",
    "    \n",
    "1. https://www.researchgate.net/publication/227988510_Automatic_Keyword_Extraction_from_Individual_Documents\n",
    "2. https://github.com/boudinfl/pke"
   ]
  }
 ],
 "metadata": {
  "kernelspec": {
   "display_name": "Python 3",
   "language": "python",
   "name": "python3"
  },
  "language_info": {
   "codemirror_mode": {
    "name": "ipython",
    "version": 3
   },
   "file_extension": ".py",
   "mimetype": "text/x-python",
   "name": "python",
   "nbconvert_exporter": "python",
   "pygments_lexer": "ipython3",
   "version": "3.7.4"
  }
 },
 "nbformat": 4,
 "nbformat_minor": 4
}
